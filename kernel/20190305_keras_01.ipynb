{
 "cells": [
  {
   "cell_type": "markdown",
   "metadata": {},
   "source": [
    "# Referense"
   ]
  },
  {
   "cell_type": "markdown",
   "metadata": {},
   "source": [
    "https://mizchi.hatenablog.com/entry/2019/02/08/183056"
   ]
  },
  {
   "cell_type": "markdown",
   "metadata": {},
   "source": [
    "# Libraries"
   ]
  },
  {
   "cell_type": "code",
   "execution_count": 1,
   "metadata": {},
   "outputs": [
    {
     "name": "stderr",
     "output_type": "stream",
     "text": [
      "Using TensorFlow backend.\n"
     ]
    }
   ],
   "source": [
    "from keras.optimizers import SGD, Adam\n",
    "from keras.layers import Dense, Activation, Dropout\n",
    "from keras.models import Sequential\n",
    "from sklearn.preprocessing import StandardScaler\n",
    "from sklearn.preprocessing import LabelEncoder\n",
    "import numpy as np\n",
    "import pandas as pd\n",
    "import matplotlib.pyplot as plt"
   ]
  },
  {
   "cell_type": "markdown",
   "metadata": {},
   "source": [
    "# Input dataset"
   ]
  },
  {
   "cell_type": "code",
   "execution_count": 2,
   "metadata": {},
   "outputs": [],
   "source": [
    "train = pd.read_csv('../input/train.csv')"
   ]
  },
  {
   "cell_type": "markdown",
   "metadata": {},
   "source": [
    "# Data preparation"
   ]
  },
  {
   "cell_type": "code",
   "execution_count": 3,
   "metadata": {},
   "outputs": [],
   "source": [
    "def missing_value_table(df):\n",
    "  #欠損値がそのカラムにいくつあるかを出力する\n",
    "  null_val = df.isnull().sum()\n",
    "  #それぞれのカラムで欠損値がどのくらいの割合を占めているかを計算する\n",
    "  percent = 100 * df.isnull().sum()/len(df)\n",
    "  #pandasのconcatメソッドで欠損数とその割合をaxis=1方向に連結する\n",
    "  missing_table = pd.concat([null_val, percent], axis=1)\n",
    "  #pandas.DataFrameの行名・列名を変更する\n",
    "  missing_table_ren_columns = missing_table.rename(\n",
    "  columns = {0 : '欠損数', 1 : '%'})\n",
    "  return missing_table_ren_columns"
   ]
  },
  {
   "cell_type": "code",
   "execution_count": 4,
   "metadata": {},
   "outputs": [
    {
     "data": {
      "text/html": [
       "<div>\n",
       "<style scoped>\n",
       "    .dataframe tbody tr th:only-of-type {\n",
       "        vertical-align: middle;\n",
       "    }\n",
       "\n",
       "    .dataframe tbody tr th {\n",
       "        vertical-align: top;\n",
       "    }\n",
       "\n",
       "    .dataframe thead th {\n",
       "        text-align: right;\n",
       "    }\n",
       "</style>\n",
       "<table border=\"1\" class=\"dataframe\">\n",
       "  <thead>\n",
       "    <tr style=\"text-align: right;\">\n",
       "      <th></th>\n",
       "      <th>欠損数</th>\n",
       "      <th>%</th>\n",
       "    </tr>\n",
       "  </thead>\n",
       "  <tbody>\n",
       "    <tr>\n",
       "      <th>PassengerId</th>\n",
       "      <td>0</td>\n",
       "      <td>0.000000</td>\n",
       "    </tr>\n",
       "    <tr>\n",
       "      <th>Survived</th>\n",
       "      <td>0</td>\n",
       "      <td>0.000000</td>\n",
       "    </tr>\n",
       "    <tr>\n",
       "      <th>Pclass</th>\n",
       "      <td>0</td>\n",
       "      <td>0.000000</td>\n",
       "    </tr>\n",
       "    <tr>\n",
       "      <th>Name</th>\n",
       "      <td>0</td>\n",
       "      <td>0.000000</td>\n",
       "    </tr>\n",
       "    <tr>\n",
       "      <th>Sex</th>\n",
       "      <td>0</td>\n",
       "      <td>0.000000</td>\n",
       "    </tr>\n",
       "    <tr>\n",
       "      <th>Age</th>\n",
       "      <td>177</td>\n",
       "      <td>19.865320</td>\n",
       "    </tr>\n",
       "    <tr>\n",
       "      <th>SibSp</th>\n",
       "      <td>0</td>\n",
       "      <td>0.000000</td>\n",
       "    </tr>\n",
       "    <tr>\n",
       "      <th>Parch</th>\n",
       "      <td>0</td>\n",
       "      <td>0.000000</td>\n",
       "    </tr>\n",
       "    <tr>\n",
       "      <th>Ticket</th>\n",
       "      <td>0</td>\n",
       "      <td>0.000000</td>\n",
       "    </tr>\n",
       "    <tr>\n",
       "      <th>Fare</th>\n",
       "      <td>0</td>\n",
       "      <td>0.000000</td>\n",
       "    </tr>\n",
       "    <tr>\n",
       "      <th>Cabin</th>\n",
       "      <td>687</td>\n",
       "      <td>77.104377</td>\n",
       "    </tr>\n",
       "    <tr>\n",
       "      <th>Embarked</th>\n",
       "      <td>2</td>\n",
       "      <td>0.224467</td>\n",
       "    </tr>\n",
       "  </tbody>\n",
       "</table>\n",
       "</div>"
      ],
      "text/plain": [
       "             欠損数          %\n",
       "PassengerId    0   0.000000\n",
       "Survived       0   0.000000\n",
       "Pclass         0   0.000000\n",
       "Name           0   0.000000\n",
       "Sex            0   0.000000\n",
       "Age          177  19.865320\n",
       "SibSp          0   0.000000\n",
       "Parch          0   0.000000\n",
       "Ticket         0   0.000000\n",
       "Fare           0   0.000000\n",
       "Cabin        687  77.104377\n",
       "Embarked       2   0.224467"
      ]
     },
     "execution_count": 4,
     "metadata": {},
     "output_type": "execute_result"
    }
   ],
   "source": [
    "missing_value_table(train)"
   ]
  },
  {
   "cell_type": "code",
   "execution_count": 5,
   "metadata": {},
   "outputs": [],
   "source": [
    "def data_filter(data):\n",
    "    not_concerned_columns = ['PassengerId', 'Name', 'Ticket', 'Cabin']\n",
    "#     not_concerned_columns = ['PassengerId', 'Name', 'Ticket', 'Cabin', 'Embarked', 'Age']\n",
    "    data = data.drop(not_concerned_columns, axis=1)\n",
    "    data = data.dropna()\n",
    "    return data"
   ]
  },
  {
   "cell_type": "code",
   "execution_count": 6,
   "metadata": {},
   "outputs": [],
   "source": [
    "train = data_filter(train)"
   ]
  },
  {
   "cell_type": "code",
   "execution_count": 7,
   "metadata": {},
   "outputs": [
    {
     "data": {
      "text/html": [
       "<div>\n",
       "<style scoped>\n",
       "    .dataframe tbody tr th:only-of-type {\n",
       "        vertical-align: middle;\n",
       "    }\n",
       "\n",
       "    .dataframe tbody tr th {\n",
       "        vertical-align: top;\n",
       "    }\n",
       "\n",
       "    .dataframe thead th {\n",
       "        text-align: right;\n",
       "    }\n",
       "</style>\n",
       "<table border=\"1\" class=\"dataframe\">\n",
       "  <thead>\n",
       "    <tr style=\"text-align: right;\">\n",
       "      <th></th>\n",
       "      <th>欠損数</th>\n",
       "      <th>%</th>\n",
       "    </tr>\n",
       "  </thead>\n",
       "  <tbody>\n",
       "    <tr>\n",
       "      <th>Survived</th>\n",
       "      <td>0</td>\n",
       "      <td>0.0</td>\n",
       "    </tr>\n",
       "    <tr>\n",
       "      <th>Pclass</th>\n",
       "      <td>0</td>\n",
       "      <td>0.0</td>\n",
       "    </tr>\n",
       "    <tr>\n",
       "      <th>Sex</th>\n",
       "      <td>0</td>\n",
       "      <td>0.0</td>\n",
       "    </tr>\n",
       "    <tr>\n",
       "      <th>Age</th>\n",
       "      <td>0</td>\n",
       "      <td>0.0</td>\n",
       "    </tr>\n",
       "    <tr>\n",
       "      <th>SibSp</th>\n",
       "      <td>0</td>\n",
       "      <td>0.0</td>\n",
       "    </tr>\n",
       "    <tr>\n",
       "      <th>Parch</th>\n",
       "      <td>0</td>\n",
       "      <td>0.0</td>\n",
       "    </tr>\n",
       "    <tr>\n",
       "      <th>Fare</th>\n",
       "      <td>0</td>\n",
       "      <td>0.0</td>\n",
       "    </tr>\n",
       "    <tr>\n",
       "      <th>Embarked</th>\n",
       "      <td>0</td>\n",
       "      <td>0.0</td>\n",
       "    </tr>\n",
       "  </tbody>\n",
       "</table>\n",
       "</div>"
      ],
      "text/plain": [
       "          欠損数    %\n",
       "Survived    0  0.0\n",
       "Pclass      0  0.0\n",
       "Sex         0  0.0\n",
       "Age         0  0.0\n",
       "SibSp       0  0.0\n",
       "Parch       0  0.0\n",
       "Fare        0  0.0\n",
       "Embarked    0  0.0"
      ]
     },
     "execution_count": 7,
     "metadata": {},
     "output_type": "execute_result"
    }
   ],
   "source": [
    "missing_value_table(train)"
   ]
  },
  {
   "cell_type": "markdown",
   "metadata": {},
   "source": [
    "# Normalize"
   ]
  },
  {
   "cell_type": "code",
   "execution_count": 8,
   "metadata": {},
   "outputs": [],
   "source": [
    "def normalize_data(data):\n",
    "    # normalize Label:Sex to int\n",
    "    le = LabelEncoder()\n",
    "    le.fit(['male', 'female'])\n",
    "    data['Sex'] = le.transform(data['Sex'])\n",
    "\n",
    "    # normalize Pclass\n",
    "    dummy_columns = ['Pclass']\n",
    "    for column in dummy_columns:\n",
    "        data = pd.concat([data, pd.get_dummies(\n",
    "            data[column], prefix=column)], axis=1)\n",
    "        data = data.drop(column, axis=1)\n",
    "\n",
    "    # normalize Embarked\n",
    "    dummy_columns = ['Embarked']\n",
    "    for column in dummy_columns:\n",
    "        data = pd.concat([data, pd.get_dummies(\n",
    "            data[column], prefix=column)], axis=1)\n",
    "        data = data.drop(column, axis=1)\n",
    "\n",
    "    # normalize Age\n",
    "    ss = StandardScaler()\n",
    "    data['Age'] = ss.fit_transform(data['Age'].values.reshape(-1, 1))\n",
    "\n",
    "    # normalize Age\n",
    "    ss = StandardScaler()\n",
    "    data['Fare'] = ss.fit_transform(data['Fare'].values.reshape(-1, 1))\n",
    "\n",
    "    return data"
   ]
  },
  {
   "cell_type": "code",
   "execution_count": 9,
   "metadata": {},
   "outputs": [],
   "source": [
    "normalized_data = normalize_data(train)"
   ]
  },
  {
   "cell_type": "code",
   "execution_count": 10,
   "metadata": {},
   "outputs": [
    {
     "data": {
      "text/html": [
       "<div>\n",
       "<style scoped>\n",
       "    .dataframe tbody tr th:only-of-type {\n",
       "        vertical-align: middle;\n",
       "    }\n",
       "\n",
       "    .dataframe tbody tr th {\n",
       "        vertical-align: top;\n",
       "    }\n",
       "\n",
       "    .dataframe thead th {\n",
       "        text-align: right;\n",
       "    }\n",
       "</style>\n",
       "<table border=\"1\" class=\"dataframe\">\n",
       "  <thead>\n",
       "    <tr style=\"text-align: right;\">\n",
       "      <th></th>\n",
       "      <th>Survived</th>\n",
       "      <th>Sex</th>\n",
       "      <th>Age</th>\n",
       "      <th>SibSp</th>\n",
       "      <th>Parch</th>\n",
       "      <th>Fare</th>\n",
       "      <th>Pclass_1</th>\n",
       "      <th>Pclass_2</th>\n",
       "      <th>Pclass_3</th>\n",
       "      <th>Embarked_C</th>\n",
       "      <th>Embarked_Q</th>\n",
       "      <th>Embarked_S</th>\n",
       "    </tr>\n",
       "  </thead>\n",
       "  <tbody>\n",
       "    <tr>\n",
       "      <th>0</th>\n",
       "      <td>0</td>\n",
       "      <td>1</td>\n",
       "      <td>-0.527669</td>\n",
       "      <td>1</td>\n",
       "      <td>0</td>\n",
       "      <td>-0.516380</td>\n",
       "      <td>0</td>\n",
       "      <td>0</td>\n",
       "      <td>1</td>\n",
       "      <td>0</td>\n",
       "      <td>0</td>\n",
       "      <td>1</td>\n",
       "    </tr>\n",
       "    <tr>\n",
       "      <th>1</th>\n",
       "      <td>1</td>\n",
       "      <td>0</td>\n",
       "      <td>0.577094</td>\n",
       "      <td>1</td>\n",
       "      <td>0</td>\n",
       "      <td>0.694046</td>\n",
       "      <td>1</td>\n",
       "      <td>0</td>\n",
       "      <td>0</td>\n",
       "      <td>1</td>\n",
       "      <td>0</td>\n",
       "      <td>0</td>\n",
       "    </tr>\n",
       "    <tr>\n",
       "      <th>2</th>\n",
       "      <td>1</td>\n",
       "      <td>0</td>\n",
       "      <td>-0.251478</td>\n",
       "      <td>0</td>\n",
       "      <td>0</td>\n",
       "      <td>-0.503620</td>\n",
       "      <td>0</td>\n",
       "      <td>0</td>\n",
       "      <td>1</td>\n",
       "      <td>0</td>\n",
       "      <td>0</td>\n",
       "      <td>1</td>\n",
       "    </tr>\n",
       "    <tr>\n",
       "      <th>3</th>\n",
       "      <td>1</td>\n",
       "      <td>0</td>\n",
       "      <td>0.369951</td>\n",
       "      <td>1</td>\n",
       "      <td>0</td>\n",
       "      <td>0.350326</td>\n",
       "      <td>1</td>\n",
       "      <td>0</td>\n",
       "      <td>0</td>\n",
       "      <td>0</td>\n",
       "      <td>0</td>\n",
       "      <td>1</td>\n",
       "    </tr>\n",
       "    <tr>\n",
       "      <th>4</th>\n",
       "      <td>0</td>\n",
       "      <td>1</td>\n",
       "      <td>0.369951</td>\n",
       "      <td>0</td>\n",
       "      <td>0</td>\n",
       "      <td>-0.501257</td>\n",
       "      <td>0</td>\n",
       "      <td>0</td>\n",
       "      <td>1</td>\n",
       "      <td>0</td>\n",
       "      <td>0</td>\n",
       "      <td>1</td>\n",
       "    </tr>\n",
       "  </tbody>\n",
       "</table>\n",
       "</div>"
      ],
      "text/plain": [
       "   Survived  Sex       Age  SibSp  Parch      Fare  Pclass_1  Pclass_2  \\\n",
       "0         0    1 -0.527669      1      0 -0.516380         0         0   \n",
       "1         1    0  0.577094      1      0  0.694046         1         0   \n",
       "2         1    0 -0.251478      0      0 -0.503620         0         0   \n",
       "3         1    0  0.369951      1      0  0.350326         1         0   \n",
       "4         0    1  0.369951      0      0 -0.501257         0         0   \n",
       "\n",
       "   Pclass_3  Embarked_C  Embarked_Q  Embarked_S  \n",
       "0         1           0           0           1  \n",
       "1         0           1           0           0  \n",
       "2         1           0           0           1  \n",
       "3         0           0           0           1  \n",
       "4         1           0           0           1  "
      ]
     },
     "execution_count": 10,
     "metadata": {},
     "output_type": "execute_result"
    }
   ],
   "source": [
    "normalized_data.head()"
   ]
  },
  {
   "cell_type": "markdown",
   "metadata": {},
   "source": [
    "# Split"
   ]
  },
  {
   "cell_type": "code",
   "execution_count": 11,
   "metadata": {},
   "outputs": [],
   "source": [
    "def split_train_and_test(data, rate=0.8):\n",
    "    data_y = data['Survived']\n",
    "    data_x = data.drop(['Survived'], axis=1)\n",
    "\n",
    "    train_valid_split_idx = int(len(data_x) * rate)\n",
    "    train_x = data_x[:train_valid_split_idx]\n",
    "    train_y = data_y[:train_valid_split_idx]\n",
    "\n",
    "    valid_test_split_idx = (len(data_x) - train_valid_split_idx) // 2\n",
    "    test_x = data_x[train_valid_split_idx + valid_test_split_idx:]\n",
    "    test_y = data_y[train_valid_split_idx + valid_test_split_idx:]\n",
    "\n",
    "    return train_x.values, train_y.values.reshape(-1, 1), test_x.values, test_y.values.reshape(-1, 1)"
   ]
  },
  {
   "cell_type": "code",
   "execution_count": 12,
   "metadata": {},
   "outputs": [],
   "source": [
    "train_x, train_y, test_x, test_y = split_train_and_test(normalized_data, 0.8)"
   ]
  },
  {
   "cell_type": "markdown",
   "metadata": {},
   "source": [
    "# Model"
   ]
  },
  {
   "cell_type": "code",
   "execution_count": 13,
   "metadata": {},
   "outputs": [],
   "source": [
    "def build_model(input_dim):\n",
    "#     model = Sequential()\n",
    "#     model.add(Dense(20, input_dim=input_dim))\n",
    "#     model.add(Activation('relu'))\n",
    "#     model.add(Dense(1, input_dim=20))\n",
    "#     model.add(Activation('sigmoid'))\n",
    "#     model.compile(optimizer=SGD(lr=0.01),\n",
    "#                   loss='binary_crossentropy',\n",
    "#                   metrics=['accuracy'])\n",
    "\n",
    "#     model = Sequential()\n",
    "#     model.add(Dense(20, input_dim=input_dim))\n",
    "#     model.add(Activation('relu'))\n",
    "#     model.add(Dropout(0.5))\n",
    "#     model.add(Dense(1, input_dim=20))\n",
    "#     model.add(Activation('sigmoid'))\n",
    "# #     model.compile(optimizer=SGD(lr=0.0001),\n",
    "#     model.compile(optimizer=SGD(lr=0.01),\n",
    "#                   loss='binary_crossentropy',\n",
    "#                   metrics=['accuracy'])\n",
    "\n",
    "    # create model\n",
    "    model = Sequential()\n",
    "#     model.add(Dense(64, input_shape=(8,)))\n",
    "    model.add(Dense(64, input_dim=train_x.shape[1]))\n",
    "\n",
    "    for i in range(0, 8):\n",
    "        model.add(Dense(units=64))\n",
    "        model.add(Activation('relu'))\n",
    "\n",
    "    model.add(Dense(units=1))\n",
    "    model.add(Activation('linear'))\n",
    "\n",
    "    model.compile(loss='mean_squared_error', optimizer='rmsprop', metrics=['accuracy'])\n",
    "\n",
    "    return model"
   ]
  },
  {
   "cell_type": "code",
   "execution_count": 14,
   "metadata": {},
   "outputs": [
    {
     "data": {
      "text/plain": [
       "11"
      ]
     },
     "execution_count": 14,
     "metadata": {},
     "output_type": "execute_result"
    }
   ],
   "source": [
    "train_x.shape[1]"
   ]
  },
  {
   "cell_type": "code",
   "execution_count": 15,
   "metadata": {},
   "outputs": [
    {
     "name": "stdout",
     "output_type": "stream",
     "text": [
      "WARNING:tensorflow:From /usr/local/lib/python3.5/dist-packages/tensorflow/python/framework/op_def_library.py:263: colocate_with (from tensorflow.python.framework.ops) is deprecated and will be removed in a future version.\n",
      "Instructions for updating:\n",
      "Colocations handled automatically by placer.\n"
     ]
    }
   ],
   "source": [
    "model = build_model(train_x.shape[1])"
   ]
  },
  {
   "cell_type": "markdown",
   "metadata": {},
   "source": [
    "# Train"
   ]
  },
  {
   "cell_type": "code",
   "execution_count": 16,
   "metadata": {
    "scrolled": true
   },
   "outputs": [
    {
     "name": "stdout",
     "output_type": "stream",
     "text": [
      "WARNING:tensorflow:From /usr/local/lib/python3.5/dist-packages/tensorflow/python/ops/math_ops.py:3066: to_int32 (from tensorflow.python.ops.math_ops) is deprecated and will be removed in a future version.\n",
      "Instructions for updating:\n",
      "Use tf.cast instead.\n"
     ]
    },
    {
     "name": "stderr",
     "output_type": "stream",
     "text": [
      "/home/reyes/.local/lib/python3.5/site-packages/ipykernel_launcher.py:1: UserWarning: The `nb_epoch` argument in `fit` has been renamed `epochs`.\n",
      "  \"\"\"Entry point for launching an IPython kernel.\n"
     ]
    },
    {
     "name": "stdout",
     "output_type": "stream",
     "text": [
      "Epoch 1/120\n",
      "569/569 [==============================] - 1s 2ms/step - loss: 0.2348 - acc: 0.6415\n",
      "Epoch 2/120\n",
      "569/569 [==============================] - 0s 79us/step - loss: 0.1593 - acc: 0.7944\n",
      "Epoch 3/120\n",
      "569/569 [==============================] - 0s 79us/step - loss: 0.1474 - acc: 0.8067\n",
      "Epoch 4/120\n",
      "569/569 [==============================] - 0s 83us/step - loss: 0.1378 - acc: 0.8084\n",
      "Epoch 5/120\n",
      "569/569 [==============================] - 0s 104us/step - loss: 0.1366 - acc: 0.8172\n",
      "Epoch 6/120\n",
      "569/569 [==============================] - 0s 109us/step - loss: 0.1332 - acc: 0.8348\n",
      "Epoch 7/120\n",
      "569/569 [==============================] - 0s 105us/step - loss: 0.1325 - acc: 0.8243\n",
      "Epoch 8/120\n",
      "569/569 [==============================] - 0s 106us/step - loss: 0.1284 - acc: 0.8207\n",
      "Epoch 9/120\n",
      "569/569 [==============================] - 0s 105us/step - loss: 0.1281 - acc: 0.8155\n",
      "Epoch 10/120\n",
      "569/569 [==============================] - 0s 105us/step - loss: 0.1253 - acc: 0.8489\n",
      "Epoch 11/120\n",
      "569/569 [==============================] - 0s 108us/step - loss: 0.1226 - acc: 0.8243\n",
      "Epoch 12/120\n",
      "569/569 [==============================] - 0s 108us/step - loss: 0.1247 - acc: 0.8278\n",
      "Epoch 13/120\n",
      "569/569 [==============================] - 0s 141us/step - loss: 0.1187 - acc: 0.8348\n",
      "Epoch 14/120\n",
      "569/569 [==============================] - 0s 140us/step - loss: 0.1223 - acc: 0.8453\n",
      "Epoch 15/120\n",
      "569/569 [==============================] - 0s 139us/step - loss: 0.1190 - acc: 0.8436\n",
      "Epoch 16/120\n",
      "569/569 [==============================] - 0s 140us/step - loss: 0.1187 - acc: 0.8383\n",
      "Epoch 17/120\n",
      "569/569 [==============================] - 0s 138us/step - loss: 0.1170 - acc: 0.8418\n",
      "Epoch 18/120\n",
      "569/569 [==============================] - 0s 139us/step - loss: 0.1104 - acc: 0.8401\n",
      "Epoch 19/120\n",
      "569/569 [==============================] - 0s 140us/step - loss: 0.1163 - acc: 0.8366\n",
      "Epoch 20/120\n",
      "569/569 [==============================] - 0s 110us/step - loss: 0.1123 - acc: 0.8471\n",
      "Epoch 21/120\n",
      "569/569 [==============================] - 0s 102us/step - loss: 0.1150 - acc: 0.8453\n",
      "Epoch 22/120\n",
      "569/569 [==============================] - 0s 101us/step - loss: 0.1086 - acc: 0.8612\n",
      "Epoch 23/120\n",
      "569/569 [==============================] - 0s 98us/step - loss: 0.1150 - acc: 0.8489\n",
      "Epoch 24/120\n",
      "569/569 [==============================] - 0s 96us/step - loss: 0.1080 - acc: 0.8682\n",
      "Epoch 25/120\n",
      "569/569 [==============================] - 0s 110us/step - loss: 0.1080 - acc: 0.8559\n",
      "Epoch 26/120\n",
      "569/569 [==============================] - 0s 118us/step - loss: 0.1128 - acc: 0.8559\n",
      "Epoch 27/120\n",
      "569/569 [==============================] - 0s 112us/step - loss: 0.1059 - acc: 0.8612\n",
      "Epoch 28/120\n",
      "569/569 [==============================] - 0s 110us/step - loss: 0.1098 - acc: 0.8664\n",
      "Epoch 29/120\n",
      "569/569 [==============================] - 0s 116us/step - loss: 0.1066 - acc: 0.8524\n",
      "Epoch 30/120\n",
      "569/569 [==============================] - 0s 125us/step - loss: 0.1077 - acc: 0.8541\n",
      "Epoch 31/120\n",
      "569/569 [==============================] - 0s 126us/step - loss: 0.1024 - acc: 0.8612\n",
      "Epoch 32/120\n",
      "569/569 [==============================] - 0s 132us/step - loss: 0.1060 - acc: 0.8699\n",
      "Epoch 33/120\n",
      "569/569 [==============================] - 0s 97us/step - loss: 0.1018 - acc: 0.8735\n",
      "Epoch 34/120\n",
      "569/569 [==============================] - 0s 82us/step - loss: 0.1042 - acc: 0.8664\n",
      "Epoch 35/120\n",
      "569/569 [==============================] - 0s 81us/step - loss: 0.1047 - acc: 0.8647\n",
      "Epoch 36/120\n",
      "569/569 [==============================] - 0s 88us/step - loss: 0.1015 - acc: 0.8647\n",
      "Epoch 37/120\n",
      "569/569 [==============================] - 0s 123us/step - loss: 0.1040 - acc: 0.8594\n",
      "Epoch 38/120\n",
      "569/569 [==============================] - 0s 121us/step - loss: 0.1013 - acc: 0.8682\n",
      "Epoch 39/120\n",
      "569/569 [==============================] - 0s 121us/step - loss: 0.0997 - acc: 0.8612\n",
      "Epoch 40/120\n",
      "569/569 [==============================] - 0s 122us/step - loss: 0.0983 - acc: 0.8787\n",
      "Epoch 41/120\n",
      "569/569 [==============================] - 0s 135us/step - loss: 0.0990 - acc: 0.8735\n",
      "Epoch 42/120\n",
      "569/569 [==============================] - 0s 115us/step - loss: 0.1017 - acc: 0.8559\n",
      "Epoch 43/120\n",
      "569/569 [==============================] - 0s 117us/step - loss: 0.0942 - acc: 0.8770\n",
      "Epoch 44/120\n",
      "569/569 [==============================] - 0s 117us/step - loss: 0.0986 - acc: 0.8699\n",
      "Epoch 45/120\n",
      "569/569 [==============================] - 0s 119us/step - loss: 0.0986 - acc: 0.8717\n",
      "Epoch 46/120\n",
      "569/569 [==============================] - 0s 117us/step - loss: 0.0969 - acc: 0.8875\n",
      "Epoch 47/120\n",
      "569/569 [==============================] - 0s 138us/step - loss: 0.0925 - acc: 0.8770\n",
      "Epoch 48/120\n",
      "569/569 [==============================] - 0s 114us/step - loss: 0.0974 - acc: 0.8770\n",
      "Epoch 49/120\n",
      "569/569 [==============================] - 0s 84us/step - loss: 0.0961 - acc: 0.8682\n",
      "Epoch 50/120\n",
      "569/569 [==============================] - 0s 90us/step - loss: 0.0924 - acc: 0.8752\n",
      "Epoch 51/120\n",
      "569/569 [==============================] - 0s 103us/step - loss: 0.0951 - acc: 0.8735\n",
      "Epoch 52/120\n",
      "569/569 [==============================] - 0s 119us/step - loss: 0.0956 - acc: 0.8699\n",
      "Epoch 53/120\n",
      "569/569 [==============================] - 0s 146us/step - loss: 0.0919 - acc: 0.8840\n",
      "Epoch 54/120\n",
      "569/569 [==============================] - 0s 157us/step - loss: 0.0911 - acc: 0.8787\n",
      "Epoch 55/120\n",
      "569/569 [==============================] - 0s 135us/step - loss: 0.0921 - acc: 0.8822\n",
      "Epoch 56/120\n",
      "569/569 [==============================] - 0s 129us/step - loss: 0.0913 - acc: 0.8822\n",
      "Epoch 57/120\n",
      "569/569 [==============================] - 0s 150us/step - loss: 0.0923 - acc: 0.8822\n",
      "Epoch 58/120\n",
      "569/569 [==============================] - 0s 153us/step - loss: 0.0906 - acc: 0.8858\n",
      "Epoch 59/120\n",
      "569/569 [==============================] - 0s 148us/step - loss: 0.0853 - acc: 0.8822\n",
      "Epoch 60/120\n",
      "569/569 [==============================] - 0s 146us/step - loss: 0.0918 - acc: 0.8805\n",
      "Epoch 61/120\n",
      "569/569 [==============================] - 0s 157us/step - loss: 0.0943 - acc: 0.8822\n",
      "Epoch 62/120\n",
      "569/569 [==============================] - 0s 173us/step - loss: 0.0856 - acc: 0.8858\n",
      "Epoch 63/120\n",
      "569/569 [==============================] - 0s 112us/step - loss: 0.0877 - acc: 0.8893\n",
      "Epoch 64/120\n",
      "569/569 [==============================] - 0s 101us/step - loss: 0.0917 - acc: 0.8752\n",
      "Epoch 65/120\n",
      "569/569 [==============================] - 0s 98us/step - loss: 0.0914 - acc: 0.8822\n",
      "Epoch 66/120\n",
      "569/569 [==============================] - 0s 98us/step - loss: 0.0854 - acc: 0.8946\n",
      "Epoch 67/120\n",
      "569/569 [==============================] - 0s 115us/step - loss: 0.0881 - acc: 0.8735\n",
      "Epoch 68/120\n",
      "569/569 [==============================] - 0s 195us/step - loss: 0.0857 - acc: 0.8928\n",
      "Epoch 69/120\n",
      "569/569 [==============================] - 0s 154us/step - loss: 0.0876 - acc: 0.8735\n",
      "Epoch 70/120\n",
      "569/569 [==============================] - 0s 127us/step - loss: 0.0847 - acc: 0.8840\n",
      "Epoch 71/120\n",
      "569/569 [==============================] - 0s 130us/step - loss: 0.0873 - acc: 0.8822\n",
      "Epoch 72/120\n",
      "569/569 [==============================] - 0s 128us/step - loss: 0.0896 - acc: 0.8787\n",
      "Epoch 73/120\n",
      "569/569 [==============================] - 0s 129us/step - loss: 0.0879 - acc: 0.8858\n",
      "Epoch 74/120\n",
      "569/569 [==============================] - 0s 128us/step - loss: 0.0849 - acc: 0.8910\n",
      "Epoch 75/120\n",
      "569/569 [==============================] - 0s 128us/step - loss: 0.0830 - acc: 0.8910\n",
      "Epoch 76/120\n",
      "569/569 [==============================] - 0s 127us/step - loss: 0.0833 - acc: 0.8840\n",
      "Epoch 77/120\n",
      "569/569 [==============================] - 0s 132us/step - loss: 0.0821 - acc: 0.8928\n",
      "Epoch 78/120\n",
      "569/569 [==============================] - 0s 149us/step - loss: 0.0853 - acc: 0.8875\n",
      "Epoch 79/120\n",
      "569/569 [==============================] - 0s 148us/step - loss: 0.0837 - acc: 0.8893\n",
      "Epoch 80/120\n",
      "569/569 [==============================] - 0s 150us/step - loss: 0.0855 - acc: 0.8858\n",
      "Epoch 81/120\n",
      "569/569 [==============================] - 0s 153us/step - loss: 0.0863 - acc: 0.8910\n",
      "Epoch 82/120\n",
      "569/569 [==============================] - 0s 160us/step - loss: 0.0861 - acc: 0.8946\n",
      "Epoch 83/120\n",
      "569/569 [==============================] - 0s 170us/step - loss: 0.0841 - acc: 0.8805\n"
     ]
    },
    {
     "name": "stdout",
     "output_type": "stream",
     "text": [
      "Epoch 84/120\n",
      "569/569 [==============================] - 0s 129us/step - loss: 0.0851 - acc: 0.8875\n",
      "Epoch 85/120\n",
      "569/569 [==============================] - 0s 129us/step - loss: 0.0861 - acc: 0.8822\n",
      "Epoch 86/120\n",
      "569/569 [==============================] - 0s 155us/step - loss: 0.0814 - acc: 0.8893\n",
      "Epoch 87/120\n",
      "569/569 [==============================] - 0s 161us/step - loss: 0.0821 - acc: 0.8946\n",
      "Epoch 88/120\n",
      "569/569 [==============================] - 0s 184us/step - loss: 0.0787 - acc: 0.8998\n",
      "Epoch 89/120\n",
      "569/569 [==============================] - 0s 187us/step - loss: 0.0829 - acc: 0.8875\n",
      "Epoch 90/120\n",
      "569/569 [==============================] - 0s 189us/step - loss: 0.0926 - acc: 0.8805\n",
      "Epoch 91/120\n",
      "569/569 [==============================] - 0s 190us/step - loss: 0.0852 - acc: 0.8875\n",
      "Epoch 92/120\n",
      "569/569 [==============================] - 0s 195us/step - loss: 0.0795 - acc: 0.8928\n",
      "Epoch 93/120\n",
      "569/569 [==============================] - 0s 188us/step - loss: 0.0803 - acc: 0.8963\n",
      "Epoch 94/120\n",
      "569/569 [==============================] - 0s 220us/step - loss: 0.0819 - acc: 0.8840\n",
      "Epoch 95/120\n",
      "569/569 [==============================] - 0s 246us/step - loss: 0.0816 - acc: 0.8893\n",
      "Epoch 96/120\n",
      "569/569 [==============================] - 0s 244us/step - loss: 0.0810 - acc: 0.8893\n",
      "Epoch 97/120\n",
      "569/569 [==============================] - 0s 245us/step - loss: 0.0772 - acc: 0.8981\n",
      "Epoch 98/120\n",
      "569/569 [==============================] - 0s 246us/step - loss: 0.0851 - acc: 0.8840\n",
      "Epoch 99/120\n",
      "569/569 [==============================] - 0s 211us/step - loss: 0.0845 - acc: 0.8893\n",
      "Epoch 100/120\n",
      "569/569 [==============================] - 0s 177us/step - loss: 0.0795 - acc: 0.8928\n",
      "Epoch 101/120\n",
      "569/569 [==============================] - 0s 155us/step - loss: 0.0817 - acc: 0.8910\n",
      "Epoch 102/120\n",
      "569/569 [==============================] - 0s 142us/step - loss: 0.0791 - acc: 0.8963\n",
      "Epoch 103/120\n",
      "569/569 [==============================] - 0s 193us/step - loss: 0.0785 - acc: 0.8910\n",
      "Epoch 104/120\n",
      "569/569 [==============================] - 0s 194us/step - loss: 0.0817 - acc: 0.8840\n",
      "Epoch 105/120\n",
      "569/569 [==============================] - 0s 167us/step - loss: 0.0770 - acc: 0.8946\n",
      "Epoch 106/120\n",
      "569/569 [==============================] - 0s 144us/step - loss: 0.0769 - acc: 0.8998\n",
      "Epoch 107/120\n",
      "569/569 [==============================] - 0s 151us/step - loss: 0.0779 - acc: 0.8963\n",
      "Epoch 108/120\n",
      "569/569 [==============================] - 0s 153us/step - loss: 0.0796 - acc: 0.8946\n",
      "Epoch 109/120\n",
      "569/569 [==============================] - 0s 189us/step - loss: 0.0783 - acc: 0.8946\n",
      "Epoch 110/120\n",
      "569/569 [==============================] - 0s 146us/step - loss: 0.0787 - acc: 0.8822\n",
      "Epoch 111/120\n",
      "569/569 [==============================] - 0s 113us/step - loss: 0.0747 - acc: 0.8963\n",
      "Epoch 112/120\n",
      "569/569 [==============================] - 0s 122us/step - loss: 0.0756 - acc: 0.8981\n",
      "Epoch 113/120\n",
      "569/569 [==============================] - 0s 150us/step - loss: 0.0809 - acc: 0.8946\n",
      "Epoch 114/120\n",
      "569/569 [==============================] - 0s 151us/step - loss: 0.0784 - acc: 0.9051\n",
      "Epoch 115/120\n",
      "569/569 [==============================] - 0s 158us/step - loss: 0.0731 - acc: 0.8998\n",
      "Epoch 116/120\n",
      "569/569 [==============================] - 0s 189us/step - loss: 0.0759 - acc: 0.9016\n",
      "Epoch 117/120\n",
      "569/569 [==============================] - 0s 184us/step - loss: 0.0818 - acc: 0.8946\n",
      "Epoch 118/120\n",
      "569/569 [==============================] - 0s 167us/step - loss: 0.0730 - acc: 0.9069\n",
      "Epoch 119/120\n",
      "569/569 [==============================] - 0s 168us/step - loss: 0.0780 - acc: 0.8963\n",
      "Epoch 120/120\n",
      "569/569 [==============================] - 0s 206us/step - loss: 0.0754 - acc: 0.8981\n"
     ]
    }
   ],
   "source": [
    "history = model.fit(train_x, train_y, nb_epoch=120, batch_size=32, verbose=1)"
   ]
  },
  {
   "cell_type": "code",
   "execution_count": 17,
   "metadata": {},
   "outputs": [
    {
     "data": {
      "text/plain": [
       "dict_keys(['acc', 'loss'])"
      ]
     },
     "execution_count": 17,
     "metadata": {},
     "output_type": "execute_result"
    }
   ],
   "source": [
    "history.history.keys()"
   ]
  },
  {
   "cell_type": "code",
   "execution_count": 18,
   "metadata": {},
   "outputs": [
    {
     "data": {
      "text/plain": [
       "0.9068541291099441"
      ]
     },
     "execution_count": 18,
     "metadata": {},
     "output_type": "execute_result"
    }
   ],
   "source": [
    "max(history.history['acc'])"
   ]
  },
  {
   "cell_type": "code",
   "execution_count": 19,
   "metadata": {},
   "outputs": [
    {
     "data": {
      "text/plain": [
       "0.0729734564105111"
      ]
     },
     "execution_count": 19,
     "metadata": {},
     "output_type": "execute_result"
    }
   ],
   "source": [
    "min(history.history['loss'])"
   ]
  },
  {
   "cell_type": "code",
   "execution_count": 20,
   "metadata": {},
   "outputs": [
    {
     "data": {
      "image/png": "[encoded data removed]",
      "text/plain": [
       "<Figure size 432x288 with 1 Axes>"
      ]
     },
     "metadata": {
      "needs_background": "light"
     },
     "output_type": "display_data"
    }
   ],
   "source": [
    "plt.plot(history.history['acc'])\n",
    "plt.plot(history.history['loss'])\n",
    "plt.title('Model history')\n",
    "plt.ylabel('Accuracy')\n",
    "plt.xlabel('Epoch')\n",
    "plt.legend(['Accuracy', 'Loss'], loc='upper left')\n",
    "plt.ylim(0.0, 1.0)\n",
    "plt.show()"
   ]
  },
  {
   "cell_type": "markdown",
   "metadata": {},
   "source": [
    "# Test"
   ]
  },
  {
   "cell_type": "code",
   "execution_count": 21,
   "metadata": {},
   "outputs": [
    {
     "name": "stdout",
     "output_type": "stream",
     "text": [
      "72/72 [==============================] - 0s 517us/step\n",
      "loss:0.14128099216355217 -- accuracy:0.8194444444444444\n"
     ]
    }
   ],
   "source": [
    "[loss, accuracy] = model.evaluate(test_x, test_y)\n",
    "print('loss:{0} -- accuracy:{1}'.format(loss, accuracy))"
   ]
  },
  {
   "cell_type": "markdown",
   "metadata": {},
   "source": [
    "# Prepare Test data for prediction"
   ]
  },
  {
   "cell_type": "code",
   "execution_count": 22,
   "metadata": {},
   "outputs": [],
   "source": [
    "test = pd.read_csv('../input/test.csv')"
   ]
  },
  {
   "cell_type": "code",
   "execution_count": 23,
   "metadata": {},
   "outputs": [],
   "source": [
    "test['Age'] = test['Age'].fillna(train['Age'].median())\n",
    "test['Embarked'] = test['Embarked'].fillna('S')\n",
    "test['Fare'] = test['Fare'].fillna(train['Fare'].median())"
   ]
  },
  {
   "cell_type": "code",
   "execution_count": 24,
   "metadata": {
    "scrolled": true
   },
   "outputs": [
    {
     "data": {
      "text/html": [
       "<div>\n",
       "<style scoped>\n",
       "    .dataframe tbody tr th:only-of-type {\n",
       "        vertical-align: middle;\n",
       "    }\n",
       "\n",
       "    .dataframe tbody tr th {\n",
       "        vertical-align: top;\n",
       "    }\n",
       "\n",
       "    .dataframe thead th {\n",
       "        text-align: right;\n",
       "    }\n",
       "</style>\n",
       "<table border=\"1\" class=\"dataframe\">\n",
       "  <thead>\n",
       "    <tr style=\"text-align: right;\">\n",
       "      <th></th>\n",
       "      <th>欠損数</th>\n",
       "      <th>%</th>\n",
       "    </tr>\n",
       "  </thead>\n",
       "  <tbody>\n",
       "    <tr>\n",
       "      <th>Pclass</th>\n",
       "      <td>0</td>\n",
       "      <td>0.0</td>\n",
       "    </tr>\n",
       "    <tr>\n",
       "      <th>Sex</th>\n",
       "      <td>0</td>\n",
       "      <td>0.0</td>\n",
       "    </tr>\n",
       "    <tr>\n",
       "      <th>Age</th>\n",
       "      <td>0</td>\n",
       "      <td>0.0</td>\n",
       "    </tr>\n",
       "    <tr>\n",
       "      <th>SibSp</th>\n",
       "      <td>0</td>\n",
       "      <td>0.0</td>\n",
       "    </tr>\n",
       "    <tr>\n",
       "      <th>Parch</th>\n",
       "      <td>0</td>\n",
       "      <td>0.0</td>\n",
       "    </tr>\n",
       "    <tr>\n",
       "      <th>Fare</th>\n",
       "      <td>0</td>\n",
       "      <td>0.0</td>\n",
       "    </tr>\n",
       "    <tr>\n",
       "      <th>Embarked</th>\n",
       "      <td>0</td>\n",
       "      <td>0.0</td>\n",
       "    </tr>\n",
       "  </tbody>\n",
       "</table>\n",
       "</div>"
      ],
      "text/plain": [
       "          欠損数    %\n",
       "Pclass      0  0.0\n",
       "Sex         0  0.0\n",
       "Age         0  0.0\n",
       "SibSp       0  0.0\n",
       "Parch       0  0.0\n",
       "Fare        0  0.0\n",
       "Embarked    0  0.0"
      ]
     },
     "execution_count": 24,
     "metadata": {},
     "output_type": "execute_result"
    }
   ],
   "source": [
    "test_filter = data_filter(test)\n",
    "missing_value_table(test_filter)"
   ]
  },
  {
   "cell_type": "code",
   "execution_count": 25,
   "metadata": {},
   "outputs": [],
   "source": [
    "test_normalized_data = normalize_data(test_filter)"
   ]
  },
  {
   "cell_type": "code",
   "execution_count": 26,
   "metadata": {},
   "outputs": [
    {
     "data": {
      "text/html": [
       "<div>\n",
       "<style scoped>\n",
       "    .dataframe tbody tr th:only-of-type {\n",
       "        vertical-align: middle;\n",
       "    }\n",
       "\n",
       "    .dataframe tbody tr th {\n",
       "        vertical-align: top;\n",
       "    }\n",
       "\n",
       "    .dataframe thead th {\n",
       "        text-align: right;\n",
       "    }\n",
       "</style>\n",
       "<table border=\"1\" class=\"dataframe\">\n",
       "  <thead>\n",
       "    <tr style=\"text-align: right;\">\n",
       "      <th></th>\n",
       "      <th>Sex</th>\n",
       "      <th>Age</th>\n",
       "      <th>SibSp</th>\n",
       "      <th>Parch</th>\n",
       "      <th>Fare</th>\n",
       "      <th>Pclass_1</th>\n",
       "      <th>Pclass_2</th>\n",
       "      <th>Pclass_3</th>\n",
       "      <th>Embarked_C</th>\n",
       "      <th>Embarked_Q</th>\n",
       "      <th>Embarked_S</th>\n",
       "    </tr>\n",
       "  </thead>\n",
       "  <tbody>\n",
       "    <tr>\n",
       "      <th>0</th>\n",
       "      <td>1</td>\n",
       "      <td>0.371062</td>\n",
       "      <td>0</td>\n",
       "      <td>0</td>\n",
       "      <td>-0.497474</td>\n",
       "      <td>0</td>\n",
       "      <td>0</td>\n",
       "      <td>1</td>\n",
       "      <td>0</td>\n",
       "      <td>1</td>\n",
       "      <td>0</td>\n",
       "    </tr>\n",
       "    <tr>\n",
       "      <th>1</th>\n",
       "      <td>0</td>\n",
       "      <td>1.358985</td>\n",
       "      <td>1</td>\n",
       "      <td>0</td>\n",
       "      <td>-0.512339</td>\n",
       "      <td>0</td>\n",
       "      <td>0</td>\n",
       "      <td>1</td>\n",
       "      <td>0</td>\n",
       "      <td>0</td>\n",
       "      <td>1</td>\n",
       "    </tr>\n",
       "    <tr>\n",
       "      <th>2</th>\n",
       "      <td>1</td>\n",
       "      <td>2.544493</td>\n",
       "      <td>0</td>\n",
       "      <td>0</td>\n",
       "      <td>-0.464160</td>\n",
       "      <td>0</td>\n",
       "      <td>1</td>\n",
       "      <td>0</td>\n",
       "      <td>0</td>\n",
       "      <td>1</td>\n",
       "      <td>0</td>\n",
       "    </tr>\n",
       "    <tr>\n",
       "      <th>3</th>\n",
       "      <td>1</td>\n",
       "      <td>-0.221692</td>\n",
       "      <td>0</td>\n",
       "      <td>0</td>\n",
       "      <td>-0.482535</td>\n",
       "      <td>0</td>\n",
       "      <td>0</td>\n",
       "      <td>1</td>\n",
       "      <td>0</td>\n",
       "      <td>0</td>\n",
       "      <td>1</td>\n",
       "    </tr>\n",
       "    <tr>\n",
       "      <th>4</th>\n",
       "      <td>0</td>\n",
       "      <td>-0.616861</td>\n",
       "      <td>1</td>\n",
       "      <td>1</td>\n",
       "      <td>-0.417550</td>\n",
       "      <td>0</td>\n",
       "      <td>0</td>\n",
       "      <td>1</td>\n",
       "      <td>0</td>\n",
       "      <td>0</td>\n",
       "      <td>1</td>\n",
       "    </tr>\n",
       "  </tbody>\n",
       "</table>\n",
       "</div>"
      ],
      "text/plain": [
       "   Sex       Age  SibSp  Parch      Fare  Pclass_1  Pclass_2  Pclass_3  \\\n",
       "0    1  0.371062      0      0 -0.497474         0         0         1   \n",
       "1    0  1.358985      1      0 -0.512339         0         0         1   \n",
       "2    1  2.544493      0      0 -0.464160         0         1         0   \n",
       "3    1 -0.221692      0      0 -0.482535         0         0         1   \n",
       "4    0 -0.616861      1      1 -0.417550         0         0         1   \n",
       "\n",
       "   Embarked_C  Embarked_Q  Embarked_S  \n",
       "0           0           1           0  \n",
       "1           0           0           1  \n",
       "2           0           1           0  \n",
       "3           0           0           1  \n",
       "4           0           0           1  "
      ]
     },
     "execution_count": 26,
     "metadata": {},
     "output_type": "execute_result"
    }
   ],
   "source": [
    "test_normalized_data.head()"
   ]
  },
  {
   "cell_type": "markdown",
   "metadata": {},
   "source": [
    "# Predict using keras"
   ]
  },
  {
   "cell_type": "code",
   "execution_count": 27,
   "metadata": {},
   "outputs": [],
   "source": [
    "result_raw = model.predict(test_normalized_data)"
   ]
  },
  {
   "cell_type": "code",
   "execution_count": 28,
   "metadata": {},
   "outputs": [
    {
     "data": {
      "text/plain": [
       "(418, 1)"
      ]
     },
     "execution_count": 28,
     "metadata": {},
     "output_type": "execute_result"
    }
   ],
   "source": [
    "result_raw.shape"
   ]
  },
  {
   "cell_type": "code",
   "execution_count": 29,
   "metadata": {},
   "outputs": [],
   "source": [
    "result = result_raw.flatten()"
   ]
  },
  {
   "cell_type": "code",
   "execution_count": 30,
   "metadata": {},
   "outputs": [
    {
     "data": {
      "text/plain": [
       "(418,)"
      ]
     },
     "execution_count": 30,
     "metadata": {},
     "output_type": "execute_result"
    }
   ],
   "source": [
    "result.shape"
   ]
  },
  {
   "cell_type": "code",
   "execution_count": 31,
   "metadata": {
    "scrolled": true
   },
   "outputs": [
    {
     "data": {
      "text/plain": [
       "array([ 2.01657444e-01,  9.53215957e-02,  6.99466914e-02,  1.36149853e-01,\n",
       "        4.19254787e-02,  1.93257973e-01,  5.68883061e-01,  5.76393381e-02,\n",
       "        3.38783115e-02,  9.62325931e-02,  1.72960252e-01,  1.91902906e-01,\n",
       "        9.53478396e-01,  8.03108364e-02,  9.65638816e-01,  1.02083933e+00,\n",
       "        4.43117172e-02,  1.07957758e-01,  1.32121548e-01,  4.20425683e-02,\n",
       "        9.01161730e-01,  8.65043998e-01,  9.22775805e-01,  9.41716850e-01,\n",
       "        1.02546227e+00,  5.74755929e-02,  1.03129411e+00,  1.23234436e-01,\n",
       "        3.16848844e-01,  6.61772788e-02,  6.84641972e-02,  6.08409345e-02,\n",
       "        4.62785423e-01, -8.57850984e-02,  7.01916814e-01,  1.19875088e-01,\n",
       "        5.21981359e-01,  6.39449954e-01,  7.82115012e-02,  6.14304781e-01,\n",
       "        5.26350066e-02,  8.97940814e-01,  1.30119354e-01,  9.32602286e-01,\n",
       "        9.57455814e-01,  8.46107602e-02,  3.15790921e-01,  5.61639607e-01,\n",
       "        8.57203066e-01,  2.83495113e-02,  2.58411020e-02,  4.63380814e-02,\n",
       "        9.47568953e-01,  9.52005863e-01,  4.79053706e-02,  6.63711727e-02,\n",
       "        1.39350176e-01,  8.56483728e-02,  1.12818070e-01,  8.65271926e-01,\n",
       "        1.41551763e-01,  2.37854809e-01,  1.20575294e-01,  5.33460617e-01,\n",
       "        9.74210620e-01,  9.33959663e-01,  8.38823140e-01,  7.94764832e-02,\n",
       "        1.24620833e-02,  6.44233227e-01,  5.64384162e-01,  7.67025501e-02,\n",
       "        2.41643012e-01,  2.71163881e-04,  9.03578460e-01,  4.57593948e-02,\n",
       "        1.72155231e-01,  7.62752175e-01,  1.32719934e-01,  5.64384162e-01,\n",
       "        1.05165327e+00,  6.55951202e-02,  9.37882140e-02,  1.72960252e-01,\n",
       "        6.19452521e-02,  4.22092602e-02,  6.72029316e-01,  1.75034866e-01,\n",
       "        6.37865365e-01,  9.83997643e-01,  2.13972896e-01,  1.73590928e-01,\n",
       "        1.03541255e+00,  1.72155231e-01,  3.06559615e-02,  8.50990117e-02,\n",
       "        9.60158706e-01,  1.99211329e-01,  6.43576026e-01,  2.12605089e-01,\n",
       "        9.67920005e-01,  5.97512871e-02,  5.61639607e-01,  1.10233724e-01,\n",
       "        4.31735776e-02,  9.86951441e-02,  6.92185014e-02,  5.61639607e-01,\n",
       "        1.68571651e-01,  1.32037073e-01,  4.33244184e-02,  6.38450086e-01,\n",
       "        9.66073275e-01,  8.15544605e-01,  1.02180588e+00,  7.92392969e-01,\n",
       "        1.98648959e-01,  9.40928459e-01,  4.10807878e-02,  8.91963184e-01,\n",
       "        1.01058960e+00,  1.74714066e-02,  9.76198435e-01,  1.76647902e-01,\n",
       "        5.61639607e-01,  7.65040517e-04,  6.57551140e-02,  1.36084884e-01,\n",
       "        2.43827999e-01,  6.72923997e-02,  2.31258482e-01,  6.97068200e-02,\n",
       "       -4.90556657e-02,  4.57544401e-02,  1.52583748e-01,  6.77728057e-02,\n",
       "        2.05977082e-01,  5.20563014e-02,  6.41549051e-01,  1.21537454e-01,\n",
       "        1.97605163e-01,  9.13922191e-01,  9.33717564e-02,  4.77977917e-02,\n",
       "        1.82682365e-01,  4.22242880e-02,  4.55433391e-02,  6.53050020e-02,\n",
       "        8.97940814e-01,  5.72815761e-02,  1.00742781e+00,  1.99693441e-01,\n",
       "        8.46274868e-02,  2.03178264e-02,  2.27702886e-01,  6.85192049e-02,\n",
       "        8.13489437e-01,  6.41989112e-01,  1.82682365e-01,  9.30999637e-01,\n",
       "        6.37601614e-01,  1.05228651e+00,  4.34785724e-01,  1.77963138e-01,\n",
       "        2.34603226e-01, -8.73185694e-03,  3.71154010e-01, -6.41305745e-03,\n",
       "        1.03086197e+00,  6.36940062e-01,  1.74890161e-01,  2.00046688e-01,\n",
       "        2.08551496e-01,  1.98490292e-01,  1.17518254e-01,  9.77163017e-01,\n",
       "        9.62942362e-01,  8.99352789e-01,  7.08522797e-01,  3.53407621e-01,\n",
       "        1.32719934e-01,  3.88832949e-02,  1.00016749e+00,  5.61639607e-01,\n",
       "        8.82199347e-01,  2.41951376e-01,  9.11571205e-01,  8.82001817e-02,\n",
       "        1.20529354e+00,  2.13706106e-01,  3.29281464e-02,  8.94290805e-01,\n",
       "        9.82041359e-01,  6.60014600e-02,  9.59724844e-01,  2.12714583e-01,\n",
       "        1.02333844e+00,  1.81855068e-01,  1.57270223e-01,  5.23293972e-01,\n",
       "        7.42074549e-01,  9.52093780e-01,  2.50436127e-01,  9.64465857e-01,\n",
       "        6.40612543e-02,  3.67039442e-03,  6.71441481e-02,  1.09663874e-01,\n",
       "        9.87210989e-01,  8.47192854e-02,  2.26525158e-01,  1.77722484e-01,\n",
       "        6.27278015e-02,  9.73134577e-01,  1.19226408e+00,  9.25733745e-02,\n",
       "        6.40481889e-01,  5.42102680e-02,  9.15047705e-01,  1.72155231e-01,\n",
       "        9.84537661e-01,  7.64907151e-02,  8.82242620e-01,  7.68333077e-02,\n",
       "        5.12126237e-02,  9.75445390e-01,  6.25244379e-02,  6.37865365e-01,\n",
       "        1.22318506e-01,  1.91518128e-01,  5.21445721e-02,  8.56981635e-01,\n",
       "        2.79360682e-01,  5.69194794e-01,  7.79940546e-01,  8.92597139e-02,\n",
       "        6.25587627e-02,  1.09564111e-01,  9.69220340e-01,  9.25710857e-01,\n",
       "        5.28843142e-02,  7.77956843e-01,  5.24368957e-02,  1.73003584e-01,\n",
       "       -1.31381303e-03,  5.05477130e-01,  9.12589431e-01,  6.86450675e-02,\n",
       "        8.91963184e-01,  2.08638012e-01,  9.65221763e-01,  8.91668871e-02,\n",
       "        6.08642437e-02,  6.44055083e-02,  2.22644836e-01,  1.74890161e-01,\n",
       "        5.61639607e-01,  1.72155231e-01,  9.55381155e-01,  7.68589526e-02,\n",
       "        3.05334702e-02,  7.67597184e-02,  7.90209532e-01,  9.46158886e-01,\n",
       "        6.91285580e-02,  1.72960252e-01,  4.74582575e-02,  1.74890161e-01,\n",
       "        5.21981359e-01,  1.40188515e-01,  2.58020982e-02,  5.61639607e-01,\n",
       "        9.57930923e-01,  1.08441323e-01,  1.98488891e-01,  9.68451560e-01,\n",
       "        5.69240525e-02,  5.90804666e-02,  1.92233995e-01,  1.76000401e-01,\n",
       "        6.40202165e-01,  9.67047453e-01,  6.37865365e-01,  9.29038048e-01,\n",
       "        9.38612163e-01,  1.23016253e-01,  1.76647902e-01,  4.14915532e-02,\n",
       "        1.98490292e-01,  1.72155231e-01,  1.01281106e-01,  5.59974372e-01,\n",
       "        1.98490292e-01,  4.99502793e-02,  1.14994511e-01,  1.09419629e-01,\n",
       "        9.35187340e-01,  6.61772788e-02,  4.04718518e-02,  1.99614316e-01,\n",
       "        2.31502116e-01,  4.81870584e-02,  8.45138431e-02,  6.57895654e-02,\n",
       "        6.37865365e-01,  4.49373692e-01,  8.97793949e-01,  9.66760159e-01,\n",
       "        4.74439599e-02,  8.25109929e-02,  1.18820809e-01,  1.11591600e-01,\n",
       "        1.74737439e-01,  5.39724007e-02,  8.89948368e-01,  8.73464167e-01,\n",
       "        7.07274377e-02,  1.36205316e-01,  1.42832667e-01,  7.48731792e-02,\n",
       "        1.10233724e-01,  2.07008511e-01,  5.20563014e-02,  9.42681909e-01,\n",
       "        9.30199265e-01,  6.41758442e-02,  9.76514697e-01,  2.25458220e-02,\n",
       "        8.94141197e-02,  1.72676980e-01,  3.74999166e-01,  3.97774637e-01,\n",
       "        1.98488891e-01,  2.44731382e-02,  1.42488718e-01,  9.48114812e-01,\n",
       "        2.38768458e-01,  7.72771016e-02,  7.11075142e-02,  1.98490292e-01,\n",
       "        1.16372794e-01,  2.31675565e-01, -3.36559862e-03,  8.99375141e-01,\n",
       "        5.71569428e-02,  2.86363587e-02,  5.20563014e-02,  5.55346124e-02,\n",
       "        8.61905217e-02,  9.72046256e-01,  9.01268184e-01,  6.40612543e-02,\n",
       "        6.18627518e-02,  7.67310113e-02,  1.00935292e+00,  7.63325095e-02,\n",
       "        8.61380398e-01,  1.73046917e-01,  5.61639607e-01,  2.33993419e-02,\n",
       "        8.68828222e-02,  9.74270642e-01,  9.72046256e-01,  1.36149853e-01,\n",
       "        1.06350839e+00,  1.02300026e-01,  4.22086194e-02,  5.98884702e-01,\n",
       "        9.05564964e-01,  5.64983115e-02,  8.08345079e-02,  9.57948446e-01,\n",
       "        4.72661629e-02,  2.06759095e-01,  1.02787769e+00,  8.83927226e-01,\n",
       "        1.10506937e-01,  1.76903397e-01,  5.39851524e-02,  5.99502400e-02,\n",
       "        5.61639607e-01,  7.16030598e-02,  5.98635733e-01,  8.29736143e-02,\n",
       "        5.48232794e-02,  9.34397280e-01,  6.79671541e-02,  1.31468117e-01,\n",
       "        6.92008212e-02, -2.91500390e-02,  3.83469611e-02,  9.30886626e-01,\n",
       "        1.01647604e+00,  1.37974232e-01,  3.85157838e-02,  9.86537874e-01,\n",
       "        7.35933632e-02,  7.92193353e-01,  6.57917112e-02,  9.72137868e-01,\n",
       "        8.85246575e-01,  4.41056527e-02,  1.03313088e+00,  1.14516616e-01,\n",
       "        8.34621370e-01,  1.16024017e-01,  1.45435363e-01,  6.69982135e-02,\n",
       "        6.37404144e-01,  9.39628720e-01,  6.37865365e-01,  8.81546736e-01,\n",
       "        5.16205907e-01,  1.72155231e-01,  9.18669939e-01,  1.12630963e-01,\n",
       "        1.72155261e-01,  5.25402188e-01], dtype=float32)"
      ]
     },
     "execution_count": 31,
     "metadata": {},
     "output_type": "execute_result"
    }
   ],
   "source": [
    "result"
   ]
  },
  {
   "cell_type": "code",
   "execution_count": 32,
   "metadata": {},
   "outputs": [],
   "source": [
    "def bool_filter(data, th=0.5):\n",
    "    data_bool = data\n",
    "    data_bool[data <= th] = 0\n",
    "    data_bool[data > th] = 1\n",
    "    data_bool = data_bool.astype(int)\n",
    "    return data_bool"
   ]
  },
  {
   "cell_type": "code",
   "execution_count": 33,
   "metadata": {
    "scrolled": true
   },
   "outputs": [
    {
     "data": {
      "text/plain": [
       "array([0, 0, 0, 0, 0, 0, 1, 0, 0, 0, 0, 0, 1, 0, 1, 1, 0, 0, 0, 0, 1, 1,\n",
       "       1, 1, 1, 0, 1, 0, 0, 0, 0, 0, 0, 0, 1, 0, 1, 1, 0, 1, 0, 1, 0, 1,\n",
       "       1, 0, 0, 1, 1, 0, 0, 0, 1, 1, 0, 0, 0, 0, 0, 1, 0, 0, 0, 1, 1, 1,\n",
       "       1, 0, 0, 1, 1, 0, 0, 0, 1, 0, 0, 1, 0, 1, 1, 0, 0, 0, 0, 0, 1, 0,\n",
       "       1, 1, 0, 0, 1, 0, 0, 0, 1, 0, 1, 0, 1, 0, 1, 0, 0, 0, 0, 1, 0, 0,\n",
       "       0, 1, 1, 1, 1, 1, 0, 1, 0, 1, 1, 0, 1, 0, 1, 0, 0, 0, 0, 0, 0, 0,\n",
       "       0, 0, 0, 0, 0, 0, 1, 0, 0, 1, 0, 0, 0, 0, 0, 0, 1, 0, 1, 0, 0, 0,\n",
       "       0, 0, 1, 1, 0, 1, 1, 1, 0, 0, 0, 0, 0, 0, 1, 1, 0, 0, 0, 0, 0, 1,\n",
       "       1, 1, 1, 0, 0, 0, 1, 1, 1, 0, 1, 0, 1, 0, 0, 1, 1, 0, 1, 0, 1, 0,\n",
       "       0, 1, 1, 1, 0, 1, 0, 0, 0, 0, 1, 0, 0, 0, 0, 1, 1, 0, 1, 0, 1, 0,\n",
       "       1, 0, 1, 0, 0, 1, 0, 1, 0, 0, 0, 1, 0, 1, 1, 0, 0, 0, 1, 1, 0, 1,\n",
       "       0, 0, 0, 1, 1, 0, 1, 0, 1, 0, 0, 0, 0, 0, 1, 0, 1, 0, 0, 0, 1, 1,\n",
       "       0, 0, 0, 0, 1, 0, 0, 1, 1, 0, 0, 1, 0, 0, 0, 0, 1, 1, 1, 1, 1, 0,\n",
       "       0, 0, 0, 0, 0, 1, 0, 0, 0, 0, 1, 0, 0, 0, 0, 0, 0, 0, 1, 0, 1, 1,\n",
       "       0, 0, 0, 0, 0, 0, 1, 1, 0, 0, 0, 0, 0, 0, 0, 1, 1, 0, 1, 0, 0, 0,\n",
       "       0, 0, 0, 0, 0, 1, 0, 0, 0, 0, 0, 0, 0, 1, 0, 0, 0, 0, 0, 1, 1, 0,\n",
       "       0, 0, 1, 0, 1, 0, 1, 0, 0, 1, 1, 0, 1, 0, 0, 1, 1, 0, 0, 1, 0, 0,\n",
       "       1, 1, 0, 0, 0, 0, 1, 0, 1, 0, 0, 1, 0, 0, 0, 0, 0, 1, 1, 0, 0, 1,\n",
       "       0, 1, 0, 1, 1, 0, 1, 0, 1, 0, 0, 0, 1, 1, 1, 1, 1, 0, 1, 0, 0, 1])"
      ]
     },
     "execution_count": 33,
     "metadata": {},
     "output_type": "execute_result"
    }
   ],
   "source": [
    "result_bool = bool_filter(result)\n",
    "result_bool"
   ]
  },
  {
   "cell_type": "markdown",
   "metadata": {},
   "source": [
    "# Output result to file"
   ]
  },
  {
   "cell_type": "code",
   "execution_count": 34,
   "metadata": {},
   "outputs": [],
   "source": [
    "# PassengerIdを取得\n",
    "PassengerId = np.array(test['PassengerId']).astype(int)\n",
    "# 予測データとPassengerIdをデータフレームにて結合\n",
    "result = pd.DataFrame(result_bool, PassengerId, columns = ['Survived'])\n",
    "# result.csvとして書き出し\n",
    "result.to_csv('result.csv', index_label = ['PassengerId'])"
   ]
  },
  {
   "cell_type": "code",
   "execution_count": null,
   "metadata": {},
   "outputs": [],
   "source": []
  }
 ],
 "metadata": {
  "kernelspec": {
   "display_name": "Python 3",
   "language": "python",
   "name": "python3"
  },
  "language_info": {
   "codemirror_mode": {
    "name": "ipython",
    "version": 3
   },
   "file_extension": ".py",
   "mimetype": "text/x-python",
   "name": "python",
   "nbconvert_exporter": "python",
   "pygments_lexer": "ipython3",
   "version": "3.5.2"
  }
 },
 "nbformat": 4,
 "nbformat_minor": 1
}
